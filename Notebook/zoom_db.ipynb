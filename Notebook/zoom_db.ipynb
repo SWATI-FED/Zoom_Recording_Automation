{
 "cells": [
  {
   "cell_type": "code",
   "execution_count": null,
   "metadata": {},
   "outputs": [],
   "source": [
    "from google.colab import drive\n",
    "drive.mount('/content/drive/')"
   ]
  },
  {
   "cell_type": "code",
   "execution_count": null,
   "metadata": {},
   "outputs": [],
   "source": [
    "class_dict = {\n",
    "    'Operating System Immersion': [\n",
    "        'https://zoom.us/rec/play/aMceNYvr6URiaE_vGsruAiZMhRVoarrdJ-vAXbGalvUGqn7fYOcJPDHqALCwSQnb-FqB5cCNCNSL8UbV.yitWEbe2M8jZEjA_',\n",
    "        'https://zoom.us/rec/play/JeVnPhpe9yF4zT-0zrt239sriQ8Ipo05NoTzG1Y4pv5_07CsNywVmx_H_w2uqMFnC_7f-QMFNKlNQ53K.WPVQNiLva69bpnLq', \n",
    "        'https://zoom.us/rec/play/nxKuG4_RHZYjJS0vNhIzEzyhOokJWsoGxKuODoyMkyzKeOZYRVgat4WIXhYHPLNvLGg3iHWqOnCK8c2G.4d0__4TakIDqILAe', \n",
    "        'https://zoom.us/rec/play/s0s41ObnayO2ckmGM-dHwXJCQHGZEIadVFiVqwNrJZOi8GbUiPDByXRJc2X75PF4CHUlSJjsdYEgt4Wg.APYPnLXIVtAzyO_o', \n",
    "        'https://zoom.us/rec/play/re5tYTticHcOt03jSjoXBtI0vcg7EcUBdwquCNJs1cFi5iSF2rO_sVAJMpqcMFP5jRXrOopRYoMjY9aZ.bx-3GUToAclG7e2j', \n",
    "        'https://zoom.us/rec/play/xtQqKck4XcxO6GfU0Mq10X7vMjPsItLBKsazcSdydK-mNarxCNxWZ1xAayOFY_MdEO81xbEB0NAZezNd.dBTUKIOpjBrG1IB9'\n",
    "    ], \n",
    "    'Computer Network Immersion': [\n",
    "        'https://zoom.us/rec/play/lmTHQE5JD_7QNafdlc6P9O96HFdN34HqgyP1qV5mGWtHKF9UAd4GwsUfQ9_tTKcaJLlJrLSwtNdvyA2W.2g9wBAVmCXirWy_B', \n",
    "        'https://zoom.us/rec/play/dIytqc1dOb2Meyx_kZTRO6cPOjkfW9kxPSKctldKLw57gYhzmlkMpCUsrt7Vrt6sSKWqMc3Vye1tXFlo.I6mHIT5Lc8WbmPa9', \n",
    "        'https://zoom.us/rec/play/44N7cBmpGi5dMxlCJUTXaPZmA1TVzNIO-VA2ZxKeTrbN1d8PfRZs4yRkA0FNruB-aD7B8HwgyGfYi_Yq.J8dGRKF0Ef_EAuha', \n",
    "        'https://zoom.us/rec/play/9PC_t7ZwtvtavNduPHwQBU-_NgK23PhCuZE-HNUbBw5TDnQmdwnuf_3vc10cU1Aq7hDYOqldMYz6ea9u.S6LV9hvv8W84bSsz', \n",
    "        'https://zoom.us/rec/play/5_82ryjM9c0PoQy0DOjIU7IzogztmhN-VzoZlvn4Li6e6T7HDmQQG6y2jJx4gO9u6-TpJCvYrnpt1qCQ.qpUKevunvvu1StYk'\n",
    "    ], \n",
    "    'Verbal Aptitude': [\n",
    "        'https://zoom.us/rec/play/H03t6L3aa0GWePZfBLKgZW9g8_S9LsWPigr__KsLsc2RBEF54l7pzb9mbpsqiZYAG3yGorpLRImIX_Tr.g9aGkGpZkRbBe4LJ', \n",
    "        'https://zoom.us/rec/play/eslsGITQGXg0rbzSCV6JicgDorOJMF_XJrYk8Fng__g1wTqhwAOA9CnDtgzNHMbiqpKIJVd__HxkY1w.haXT6fObyC_1VCNF'\n",
    "    ], \n",
    "    'Sql Immersion': [\n",
    "        'https://zoom.us/rec/play/9-kKcX0d4IN1nND1EgOJ0PI7bOSELwPHAvPoMt53y3wk9cYzdQBSCsu6lB0j3RpdTd4FO_6MZvxTbCT7.uH6-aotG5_gi6lPH', \n",
    "        'https://zoom.us/rec/play/p2CpsbBG8KoRN9eT3tFRZZbPKCM9VT7p37INZZ9ZK1e41Ec1bYTiDcLB5Pf94ThWtGVtRq0TMz07X-IV.SkGsQOFAtp1UzsOE', \n",
    "        'https://zoom.us/rec/play/QKQPijVH_vAB6EL-ejx0yt-2ZuWKhtc61ZZNf_41fAgYlMoTW46eb92iGbONVwuFBZLpTD1VykwLkfUI.w3JIJV8s15sGFOMe', \n",
    "        'https://zoom.us/rec/play/lQqJ-HgGCA7jZAsC3jdiezstiosEHC_FzczaWJkGfhvy6_r7m3fETwtee-zojOx13ezu48GOQi9vO4CM.EGj_G5VYOlPylIjl', \n",
    "        'https://zoom.us/rec/play/Ny4PESWNe923KdTdb9v-ADiaN4m8AKWOoGuUN0CSG_8VyAb1lZz7kR3y7DURLA48sClGOEHDbkHiDEjN.UqKJO7qQifbjCy_v', \n",
    "        'https://zoom.us/rec/play/3jDq50N-kEldxoWROuPMoAcUBDhcmbK91fwK_o5PxH1ukcqeZoqzBmN5Cr2eO6iEb2aS0UDHBd19DZwN.a4cn3SXvFlIHpVGo', \n",
    "        'https://zoom.us/rec/play/0-z6v9E07I65znzSp_hc8Rv752GwHT9zPzUB8vqBicpzgR5O-d8yaQbzm-pacr2se_Ex0bPZr1EtTxMC.Y1SdsyxDYM8ZbysB', \n",
    "        'https://zoom.us/rec/play/ONIh-yEMuyyEjp-5G4OJLoeu6OMCeWCq4hpl5ncvLULWDcKjV_NijPHOXCTUEU_h68q5wCuVhO2lbzqT.uuaFtJqEvq5YRUrH', \n",
    "        'https://zoom.us/rec/play/-bcFuc5oIk4IxLOGQexIfxIqyCIDxPljcbTGlQmMGxlemkJ8zDsUFPdKnaGIX8tvMQkHPVWFhlRzEgjd.LwI6OsfDx9dFgdPJ'\n",
    "    ], \n",
    "    'Advanced Ds & Algorithms': [\n",
    "        'https://zoom.us/rec/play/w-GPRuojyyLJ-DHokXVje6_j6Ql6P86M3CwkEgbW_l7GZ-JUKnTczlV68i_Sq5EiA_F0vB9bTDWffI71.Qade90u1huc-AEVL', \n",
    "        'https://zoom.us/rec/play/fJAUb9fh_uSC6xCpVewl2v1e8J0h-vjUl-YII_u2Fe2yOCyeDowpLHcd9P3xL6tG3SLR2FeyRl9_WFEG.T5M3JSQ7A8psFmNX', \n",
    "        'https://zoom.us/rec/play/jw620Gny1huMVREOz6dW-GfQWi7K50ecHma4bg4G4jSu9AyRP3lOh2ZMO8ZO6-uMLfA-9gZ_gkJXPYVG.AQ2kK_erOBA3NJhP'\n",
    "    ], \n",
    "    'Quant & Reasoning Aptitude': [\n",
    "        'https://zoom.us/rec/play/YU-egedPphWW_29dXs4xD0R66f93XFXXcCSebyys2oXmbXlooQT6PRF5K3lemnpE4hvbyIL83wJ-Ltgw.xqDekQuaR3oLwoFl'\n",
    "    ]\n",
    "}\n"
   ]
  },
  {
   "cell_type": "code",
   "execution_count": null,
   "metadata": {},
   "outputs": [],
   "source": [
    "%cd '/content/drive/My Drive/Sem_6/'"
   ]
  },
  {
   "cell_type": "code",
   "execution_count": null,
   "metadata": {},
   "outputs": [],
   "source": [
    "# class_dict = { class_name: [class_link, class_link, ...] }\n",
    "# create folder for each class_name if not present\n",
    "\n",
    "import os, wget\n",
    "\n",
    "print(os.getcwd())\n",
    "for class_name in class_dict.keys():\n",
    "    c = 0\n",
    "    if not os.path.exists(class_name):\n",
    "        os.mkdir(class_name)\n",
    "    # download all the links in each class_name folder\n",
    "    for link in class_dict[class_name]:\n",
    "        command = \"wget -c 'https://zoom.us/rec/sdownload/\"+link[25:]+\"' --no-check-certificate\"\n",
    "        print(command)\n",
    "        cn = f\"%cd {class_name}\"\n",
    "        os.chdir(f'{class_name}')\n",
    "        print(os.getcwd())\n",
    "        # os.system(command)\n",
    "        print(f\"{class_name} folder downloaded\")\n",
    "        os.rename(link[25:], f\"{class_name}/{class_name}_{c}.mp4\")\n",
    "        c += 1\n",
    "        os.chdir('..')\n",
    "        print(os.getcwd())\n",
    "\n",
    "\n",
    "\n"
   ]
  }
 ],
 "metadata": {
  "language_info": {
   "name": "python"
  },
  "orig_nbformat": 4
 },
 "nbformat": 4,
 "nbformat_minor": 2
}
